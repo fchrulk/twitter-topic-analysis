{
 "cells": [
  {
   "cell_type": "code",
   "execution_count": null,
   "metadata": {},
   "outputs": [],
   "source": [
    "Make sure your credential is ready before running this script!"
   ]
  },
  {
   "cell_type": "code",
   "execution_count": 1,
   "metadata": {
    "ExecuteTime": {
     "end_time": "2019-09-02T11:08:57.029825Z",
     "start_time": "2019-09-02T11:08:55.503675Z"
    },
    "code_folding": [],
    "scrolled": true
   },
   "outputs": [],
   "source": [
    "import tweepy\n",
    "from datetime import datetime, timedelta\n",
    "from dateutil.parser import parse\n",
    "import json\n",
    "import yaml\n",
    "from bson import json_util\n",
    "from time import sleep\n",
    "import os\n",
    "\n",
    "def authentication(credential):\n",
    "    print('Authenticating...', end='\\r')\n",
    "    auth = tweepy.OAuthHandler(credential['CONSUMER_KEY'], credential['CONSUMER_SECRET'])\n",
    "    auth.set_access_token(credential['ACCESS_TOKEN'], credential['ACCESS_TOKEN_SECRET'])\n",
    "    apitweepy = tweepy.API(auth, wait_on_rate_limit=True, wait_on_rate_limit_notify=True)\n",
    "    print('Authentication success using account : @{}'.format(apitweepy.auth.get_username()))\n",
    "    return apitweepy\n",
    "\n",
    "def correcting_time_local7(since, until):\n",
    "    since = (parse(since) - timedelta(days=1)).strftime('%Y-%m-%d')\n",
    "    until = (parse(until) + timedelta(days=1)).strftime('%Y-%m-%d')\n",
    "    return since, until\n",
    "\n",
    "def search_for_tweet(apitweepy, topic, search, language, since, until):\n",
    "    result_path = 'tweet_search_result/{}/'.format(topic)\n",
    "    if not os.path.exists(result_path):\n",
    "        os.makedirs(result_path)\n",
    "\n",
    "    engine = tweepy.Cursor(apitweepy.search, \n",
    "                       q='\"{}\"'.format(search),\n",
    "                       lang=language,\n",
    "                       since=since,\n",
    "                       until=until,\n",
    "                       count=100,\n",
    "                       result_type='recent',\n",
    "                       tweet_mode='extended', \n",
    "                       include_entities=True)\n",
    "\n",
    "    min_date = datetime.now()\n",
    "    result_counter = 0\n",
    "    since_out = (parse(since) + timedelta(days=1)).strftime('%Y%m%d')\n",
    "    until_out = (parse(until) - timedelta(days=1)).strftime('%Y%m%d')\n",
    "    with open('{}search_tweet_{}_{}-{}.json'.format(result_path, search, since_out, until_out), 'w+') as f:\n",
    "        while True:\n",
    "            try:\n",
    "                for tweets in engine.pages():\n",
    "                    tweets = [i._json for i in tweets]\n",
    "                    for i in tweets:\n",
    "                        local_date = (parse(i['created_at'], ignoretz=True) + timedelta(hours=7))\n",
    "                        i.update({'created_at_local': local_date.strftime('%Y-%m-%d %H:%M:%S')})\n",
    "                        if local_date < min_date:\n",
    "                            min_date = local_date\n",
    "                        if min_date < parse(since):\n",
    "                            break\n",
    "                        else:\n",
    "                            result_counter+=1\n",
    "                            f.write(json.dumps(i, default=json_util.text_type)+'\\n')\n",
    "                            f.flush()\n",
    "                    print('{} |INFO| {} {} tweets collected'.format(min_date, search, result_counter), end='\\r')\n",
    "                break\n",
    "            except tweepy.error.TweepError:\n",
    "                sleep(5)\n",
    "        print('{} |INFO| {} {} tweets collected'.format(min_date, search, result_counter))\n",
    "        f.close()"
   ]
  },
  {
   "cell_type": "code",
   "execution_count": 2,
   "metadata": {
    "ExecuteTime": {
     "end_time": "2019-09-02T11:11:16.359716Z",
     "start_time": "2019-09-02T11:08:59.668829Z"
    }
   },
   "outputs": [
    {
     "name": "stdout",
     "output_type": "stream",
     "text": [
      "Authentication success using account : @fchrulk\n",
      "since date [YYYY-MM-DD]: 2019-09-01\n",
      "until date [YYYY-MM-DD]: 2019-09-02\n",
      "language code: id\n",
      "topic name: new bawaslu\n",
      "*this script only support keyword that using one word\n",
      "*and search method is exact match\n",
      "search keywords [separate keyword with \"***\"]: bawaslu***pemilu\n",
      "2019-08-31 07:05:30 |INFO| bawaslu 1233 tweets collected\n",
      "2019-08-31 07:00:57 |INFO| pemilu 4695 tweets collected\n"
     ]
    }
   ],
   "source": [
    "if __name__ == '__main__':\n",
    "    credential = yaml.load(open('auth_twitter.yaml'), Loader=yaml.Loader)\n",
    "    apitweepy = authentication(credential)\n",
    "    since = input('since date [YYYY-MM-DD]: ')\n",
    "    until = input('until date [YYYY-MM-DD]: ')\n",
    "    since, until = correcting_time_local7(since, until)\n",
    "    language = input('language code: ')\n",
    "    topic = input('topic name: ')\n",
    "    print('*this script only support keyword that using one word')\n",
    "    print('*and search method is exact match')\n",
    "    search = input('search keywords [separate keyword with \"***\"]: ')\n",
    "    for s in search.split('***'):\n",
    "        search_for_tweet(apitweepy, topic, s, language, since, until)"
   ]
  },
  {
   "cell_type": "code",
   "execution_count": null,
   "metadata": {},
   "outputs": [],
   "source": [
    "Wait until it finished!\n",
    "It may takes long time depends how many users that used the keyword on their tweets\n",
    "JSON output should be created on your work directory.\n",
    "Sometime rate limit exceeded, just wait, it will be done."
   ]
  }
 ],
 "metadata": {
  "kernelspec": {
   "display_name": "Python 3",
   "language": "python",
   "name": "python3"
  },
  "language_info": {
   "codemirror_mode": {
    "name": "ipython",
    "version": 3
   },
   "file_extension": ".py",
   "mimetype": "text/x-python",
   "name": "python",
   "nbconvert_exporter": "python",
   "pygments_lexer": "ipython3",
   "version": "3.7.3"
  },
  "varInspector": {
   "cols": {
    "lenName": 16,
    "lenType": 16,
    "lenVar": 40
   },
   "kernels_config": {
    "python": {
     "delete_cmd_postfix": "",
     "delete_cmd_prefix": "del ",
     "library": "var_list.py",
     "varRefreshCmd": "print(var_dic_list())"
    },
    "r": {
     "delete_cmd_postfix": ") ",
     "delete_cmd_prefix": "rm(",
     "library": "var_list.r",
     "varRefreshCmd": "cat(var_dic_list()) "
    }
   },
   "types_to_exclude": [
    "module",
    "function",
    "builtin_function_or_method",
    "instance",
    "_Feature"
   ],
   "window_display": false
  }
 },
 "nbformat": 4,
 "nbformat_minor": 2
}
